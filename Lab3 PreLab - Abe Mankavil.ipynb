{
 "cells": [
  {
   "cell_type": "code",
   "execution_count": 3,
   "metadata": {},
   "outputs": [
    {
     "name": "stdout",
     "output_type": "stream",
     "text": [
      "[3.0,4.0]\n",
      "----------\n",
      "53.13010235415598\n",
      "53.13010235415598\n",
      "[-3.0,4.0]\n",
      "----------\n",
      "-53.13010235415598\n",
      "126.86989764584402\n",
      "[-3.0,-4.0]\n",
      "----------\n",
      "53.13010235415598\n",
      "-126.86989764584402\n",
      "[3.0,-4.0]\n",
      "----------\n",
      "-53.13010235415598\n",
      "-53.13010235415598\n"
     ]
    }
   ],
   "source": [
    "import numpy as np\n",
    "from numpy import arctan, arctan2\n",
    "sample = [(3.0,4.0), (-3.0,4.0), (-3.0,-4.0), (3.0,-4.0)]\n",
    "\n",
    "for x,y in sample:\n",
    "    print(f\"[{x},{y}]\")\n",
    "    print(\"----------\")\n",
    "    print(arctan(y/x)*(180/np.pi))\n",
    "    print(arctan2(y,x)*(180/np.pi))"
   ]
  },
  {
   "cell_type": "code",
   "execution_count": null,
   "metadata": {},
   "outputs": [],
   "source": [
    "Question 1: arctan2() differs from arctan() in that it is the 4-quadrant \n",
    "inverse of tan,whereas arctan() is the 2-quadrant inverse. \n",
    "The range of arctan2() is [-180,180], whereas arctan() has a range from \n",
    "[-90, 90]"
   ]
  },
  {
   "cell_type": "code",
   "execution_count": null,
   "metadata": {},
   "outputs": [],
   "source": [
    "Question 2:\n",
    "n = Q/(2*pi) = 632/2pi = 100.5 oscillations\n",
    "T = 1/f = 1/329.6Hz = 0.003 seconds\n",
    "nT = 0.305 seconds\n"
   ]
  },
  {
   "cell_type": "code",
   "execution_count": null,
   "metadata": {},
   "outputs": [],
   "source": [
    "Question 3:\n",
    "f=329.6\n",
    "w = sqrt((w0)^2 + ((gamma)^2)/4)\n",
    "f=w/(2*pi)\n",
    "gamma = (2pi*f)/(Q)= 3.287\n",
    "gamma << 329.6*2pi\n",
    "f2-f1 = 329.6/632 = 0.521 Hz"
   ]
  },
  {
   "cell_type": "code",
   "execution_count": null,
   "metadata": {},
   "outputs": [],
   "source": [
    "Question 4:\n",
    "Q = ((tau)*w0)/2\n",
    "tau = 2*200/14 = 28.57 seconds\n"
   ]
  }
 ],
 "metadata": {
  "kernelspec": {
   "display_name": "Python 3.9.7 ('base')",
   "language": "python",
   "name": "python3"
  },
  "language_info": {
   "codemirror_mode": {
    "name": "ipython",
    "version": 3
   },
   "file_extension": ".py",
   "mimetype": "text/x-python",
   "name": "python",
   "nbconvert_exporter": "python",
   "pygments_lexer": "ipython3",
   "version": "3.9.7"
  },
  "orig_nbformat": 4,
  "vscode": {
   "interpreter": {
    "hash": "7f28d809a51acbbbe84d8fa625a5e7902712524dbf5259db769e87f36729d0c4"
   }
  }
 },
 "nbformat": 4,
 "nbformat_minor": 2
}
